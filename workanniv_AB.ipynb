{
 "cells": [
  {
   "cell_type": "markdown",
   "metadata": {},
   "source": [
    "# Original Scraping Script (works)"
   ]
  },
  {
   "cell_type": "code",
   "execution_count": null,
   "metadata": {},
   "outputs": [],
   "source": [
    "import pandas as pd\n",
    "# from scrapy.selector import Selector\n",
    "# from scrapy.http import HtmlResponse\n",
    "# from linkedin_scraper import Person, actions\n",
    "from selenium import webdriver\n",
    "from parsel import Selector\n",
    "driver = webdriver.Chrome(r'C:\\Users\\fires\\chromedriver\\chromedriver.exe')\n",
    "# email = 'yo email'\n",
    "# password = '************'\n",
    "# actions.login(driver, email, password)\n",
    "\n",
    "client_urls = ['https://www.linkedin.com/in/nicholas-andersonchi/', 'https://www.linkedin.com/in/benjaminsolomon/']\n",
    "response = client_urls\n",
    "\n",
    "df = pd.DataFrame(columns=['Name', 'Work Anniversary'])\n",
    "for idx, url in enumerate(client_urls):\n",
    "    driver.get(url)\n",
    "    for idk, url in enumerate(client_urls):\n",
    "        experience = driver.find_elements_by_css_selector('#experience-section .pv-profile-section')\n",
    "        for item in experience:\n",
    "            for idx2, item in enumerate(experience[0:1]):\n",
    "                df.loc[idx, 'Work Anniversary'] = item.text\n",
    "                name = response.css('title::text').get\n",
    "                for idk, url in enumerate(client_urls):\n",
    "                    for idx2, item in enumerate(name[0:1]):\n",
    "                        df.loc[idx, 'Name'] = item.text"
   ]
  },
  {
   "cell_type": "markdown",
   "metadata": {},
   "source": [
    "# Fuckery Zone \n",
    "\n",
    "### Gettin' deez damn names and experrence \n",
    "\n",
    "https://docs.scrapy.org/en/latest/topics/selectors.html Selector notes"
   ]
  },
  {
   "cell_type": "code",
   "execution_count": 178,
   "metadata": {},
   "outputs": [],
   "source": [
    "import pandas as pd\n",
    "from scrapy.selector import Selector\n",
    "from scrapy.http import HtmlResponse\n",
    "from linkedin_scraper import Person, actions\n",
    "from selenium import webdriver\n",
    "from parsel import Selector\n",
    "import jsonpickle\n",
    "\n",
    "def __init__(self, filename):\n",
    "            self.WorkAnniv = self\n",
    "\n",
    "def read_csv(filename):\n",
    "            with open(filename, newline='') as filename:\n",
    "                rd = pd.read_csv(filename, sep=',')\n",
    "            return rd\n",
    "\n",
    "        \n",
    "def li_login(filename):\n",
    "    driver = webdriver.Chrome('/path/to/chromedriver.exe')\n",
    "    email = 'yo email'\n",
    "    password = '**********'\n",
    "    action = actions.login(driver, email, password)\n",
    "    return action\n",
    "\n",
    "def client_url(filename):\n",
    "        client_urls = []\n",
    "        rd = read_csv(filename)\n",
    "        url_list = rd\n",
    "        for line in list(rd):\n",
    "            client_urls.append(url_list)\n",
    "            print(client_urls)\n",
    "        return client_urls\n",
    "\n",
    "def li_scrape_exp(filename):\n",
    "    driver = webdriver.Chrome('/Users/Nick/chromedriver.exe')\n",
    "    client_urls = client_url(filename)\n",
    "    print(client_urls)\n",
    "    df = pd.DataFrame(columns=['Name', 'Work Anniversary'])\n",
    "    for idx, url in enumerate(client_urls):\n",
    "        experience = driver.find_elements_by_css_selector('#experience-section .pv-profile-section')\n",
    "        print(experience)\n",
    "        for item in experience:\n",
    "            for idx2, item in enumerate(experience[0:1]):\n",
    "                df.loc[idx, 'Work Anniversary'] = item.text\n",
    "    return print(df)"
   ]
  },
  {
   "cell_type": "code",
   "execution_count": 179,
   "metadata": {},
   "outputs": [],
   "source": [
    "li_login('workannivtest.csv')"
   ]
  },
  {
   "cell_type": "code",
   "execution_count": 180,
   "metadata": {
    "scrolled": true
   },
   "outputs": [
    {
     "name": "stdout",
     "output_type": "stream",
     "text": [
      "[        https://www.linkedin.com/in/benjaminsolomon/\n",
      "0  https://www.linkedin.com/in/nicholas-andersonchi/\n",
      "1  https://www.linkedin.com/in/zach-sweeney-a378a...\n",
      "2  https://www.linkedin.com/in/adrian-jordan-comm...\n",
      "3       https://www.linkedin.com/in/shannon-n-kelly/]\n",
      "[        https://www.linkedin.com/in/benjaminsolomon/\n",
      "0  https://www.linkedin.com/in/nicholas-andersonchi/\n",
      "1  https://www.linkedin.com/in/zach-sweeney-a378a...\n",
      "2  https://www.linkedin.com/in/adrian-jordan-comm...\n",
      "3       https://www.linkedin.com/in/shannon-n-kelly/]\n",
      "[]\n",
      "Empty DataFrame\n",
      "Columns: [Name, Work Anniversary]\n",
      "Index: []\n"
     ]
    }
   ],
   "source": [
    "li_scrape_exp('workannivtest.csv')"
   ]
  },
  {
   "cell_type": "markdown",
   "metadata": {},
   "source": [
    "---\n",
    "# AB"
   ]
  },
  {
   "cell_type": "code",
   "execution_count": 1,
   "metadata": {},
   "outputs": [],
   "source": [
    "import pandas as pd\n",
    "from selenium import webdriver\n",
    "from linkedin_scraper import actions\n",
    "from time import sleep"
   ]
  },
  {
   "cell_type": "code",
   "execution_count": 2,
   "metadata": {},
   "outputs": [],
   "source": [
    "def get_WA(driver):\n",
    "    experience = driver.find_elements_by_css_selector('#experience-section .pv-profile-section')\n",
    "    xp = [x.text for x in experience]\n",
    "    listed_xps = [x.split('\\n') for x in xp]\n",
    "    for i in listed_xps[0]:\n",
    "        if '–' in i:\n",
    "            broken_workanniv = i\n",
    "            workanniv0 = broken_workanniv.split('–')[0]\n",
    "            workanniv1 = broken_workanniv.split('–')[1]\n",
    "            workanniv = workanniv0 + 'to' + workanniv1\n",
    "            break\n",
    "    return workanniv"
   ]
  },
  {
   "cell_type": "code",
   "execution_count": 3,
   "metadata": {},
   "outputs": [],
   "source": [
    "def get_name(driver):\n",
    "    finds = driver.find_elements_by_class_name('break-words')\n",
    "    names = [x.text for x in finds]\n",
    "    name = names[0]\n",
    "    return name"
   ]
  },
  {
   "cell_type": "code",
   "execution_count": 4,
   "metadata": {},
   "outputs": [],
   "source": [
    "def write_csv_raw(output :str, d: dict):\n",
    "    with open(output, 'w') as file:\n",
    "        file.write('NAME, Work_Anniv\\n')\n",
    "        for k, v in d.items():\n",
    "            file.write(f'{k}, {v}\\n')\n",
    "    return print(f'{output} has been written.')"
   ]
  },
  {
   "cell_type": "code",
   "execution_count": 5,
   "metadata": {},
   "outputs": [
    {
     "data": {
      "text/plain": [
       "['https://www.linkedin.com/in/benjaminsolomon/',\n",
       " 'https://www.linkedin.com/in/nicholas-andersonchi/',\n",
       " 'https://www.linkedin.com/in/zach-sweeney-a378a4166/',\n",
       " 'https://www.linkedin.com/in/adrian-jordan-communicator/',\n",
       " 'https://www.linkedin.com/in/shannon-n-kelly/']"
      ]
     },
     "execution_count": 5,
     "metadata": {},
     "output_type": "execute_result"
    }
   ],
   "source": [
    "df = pd.read_csv('workannivtest.csv', names=['URLs'])\n",
    "urls = df['URLs'].tolist()\n",
    "urls"
   ]
  },
  {
   "cell_type": "markdown",
   "metadata": {},
   "source": [
    "## raw python"
   ]
  },
  {
   "cell_type": "code",
   "execution_count": 6,
   "metadata": {},
   "outputs": [
    {
     "data": {
      "text/plain": [
       "{'Ben Solomon': 'Oct 2012 to Present',\n",
       " 'Nicholas Anderson': 'Jun 2019 to Present',\n",
       " 'Zach Sweeney': 'Jun 2019 to Present',\n",
       " 'Adrian Jordan': 'Aug 2018 to Present',\n",
       " 'Shannon Kelly': 'Aug 2018 to Present'}"
      ]
     },
     "execution_count": 6,
     "metadata": {},
     "output_type": "execute_result"
    }
   ],
   "source": [
    "driver = webdriver.Chrome(r'C:\\Users\\fires\\chromedriver\\chromedriver.exe')\n",
    "actions.login(driver, 'abrazeau1993@gmail.com', '*')\n",
    "d = {}\n",
    "for url in urls:\n",
    "    driver.get(url)\n",
    "    d[get_name(driver)] = get_WA(driver)\n",
    "d"
   ]
  },
  {
   "cell_type": "code",
   "execution_count": 7,
   "metadata": {},
   "outputs": [
    {
     "name": "stdout",
     "output_type": "stream",
     "text": [
      "test_output.csv has been written.\n"
     ]
    }
   ],
   "source": [
    "output = 'test_output.csv'\n",
    "write_csv_raw(output, d)"
   ]
  },
  {
   "cell_type": "code",
   "execution_count": 8,
   "metadata": {},
   "outputs": [
    {
     "data": {
      "text/html": [
       "<div>\n",
       "<style scoped>\n",
       "    .dataframe tbody tr th:only-of-type {\n",
       "        vertical-align: middle;\n",
       "    }\n",
       "\n",
       "    .dataframe tbody tr th {\n",
       "        vertical-align: top;\n",
       "    }\n",
       "\n",
       "    .dataframe thead th {\n",
       "        text-align: right;\n",
       "    }\n",
       "</style>\n",
       "<table border=\"1\" class=\"dataframe\">\n",
       "  <thead>\n",
       "    <tr style=\"text-align: right;\">\n",
       "      <th></th>\n",
       "      <th>NAME</th>\n",
       "      <th>Work_Anniv</th>\n",
       "    </tr>\n",
       "  </thead>\n",
       "  <tbody>\n",
       "    <tr>\n",
       "      <th>0</th>\n",
       "      <td>Ben Solomon</td>\n",
       "      <td>Oct 2012 to Present</td>\n",
       "    </tr>\n",
       "    <tr>\n",
       "      <th>1</th>\n",
       "      <td>Nicholas Anderson</td>\n",
       "      <td>Jun 2019 to Present</td>\n",
       "    </tr>\n",
       "    <tr>\n",
       "      <th>2</th>\n",
       "      <td>Zach Sweeney</td>\n",
       "      <td>Jun 2019 to Present</td>\n",
       "    </tr>\n",
       "    <tr>\n",
       "      <th>3</th>\n",
       "      <td>Adrian Jordan</td>\n",
       "      <td>Aug 2018 to Present</td>\n",
       "    </tr>\n",
       "    <tr>\n",
       "      <th>4</th>\n",
       "      <td>Shannon Kelly</td>\n",
       "      <td>Aug 2018 to Present</td>\n",
       "    </tr>\n",
       "  </tbody>\n",
       "</table>\n",
       "</div>"
      ],
      "text/plain": [
       "                NAME            Work_Anniv\n",
       "0        Ben Solomon   Oct 2012 to Present\n",
       "1  Nicholas Anderson   Jun 2019 to Present\n",
       "2       Zach Sweeney   Jun 2019 to Present\n",
       "3      Adrian Jordan   Aug 2018 to Present\n",
       "4      Shannon Kelly   Aug 2018 to Present"
      ]
     },
     "execution_count": 8,
     "metadata": {},
     "output_type": "execute_result"
    }
   ],
   "source": [
    "outdf = pd.read_csv(output)\n",
    "outdf"
   ]
  },
  {
   "cell_type": "markdown",
   "metadata": {},
   "source": [
    "## Pandas"
   ]
  },
  {
   "cell_type": "code",
   "execution_count": 9,
   "metadata": {},
   "outputs": [
    {
     "data": {
      "text/html": [
       "<div>\n",
       "<style scoped>\n",
       "    .dataframe tbody tr th:only-of-type {\n",
       "        vertical-align: middle;\n",
       "    }\n",
       "\n",
       "    .dataframe tbody tr th {\n",
       "        vertical-align: top;\n",
       "    }\n",
       "\n",
       "    .dataframe thead th {\n",
       "        text-align: right;\n",
       "    }\n",
       "</style>\n",
       "<table border=\"1\" class=\"dataframe\">\n",
       "  <thead>\n",
       "    <tr style=\"text-align: right;\">\n",
       "      <th></th>\n",
       "      <th>NAME</th>\n",
       "      <th>WORK_ANNIV</th>\n",
       "    </tr>\n",
       "  </thead>\n",
       "  <tbody>\n",
       "    <tr>\n",
       "      <th>0</th>\n",
       "      <td>Ben Solomon</td>\n",
       "      <td>Oct 2012 to Present</td>\n",
       "    </tr>\n",
       "    <tr>\n",
       "      <th>1</th>\n",
       "      <td>Nicholas Anderson</td>\n",
       "      <td>Jun 2019 to Present</td>\n",
       "    </tr>\n",
       "    <tr>\n",
       "      <th>2</th>\n",
       "      <td>Zach Sweeney</td>\n",
       "      <td>Jun 2019 to Present</td>\n",
       "    </tr>\n",
       "    <tr>\n",
       "      <th>3</th>\n",
       "      <td>Adrian Jordan</td>\n",
       "      <td>Aug 2018 to Present</td>\n",
       "    </tr>\n",
       "    <tr>\n",
       "      <th>4</th>\n",
       "      <td>Shannon Kelly</td>\n",
       "      <td>Aug 2018 to Present</td>\n",
       "    </tr>\n",
       "  </tbody>\n",
       "</table>\n",
       "</div>"
      ],
      "text/plain": [
       "                NAME           WORK_ANNIV\n",
       "0        Ben Solomon  Oct 2012 to Present\n",
       "1  Nicholas Anderson  Jun 2019 to Present\n",
       "2       Zach Sweeney  Jun 2019 to Present\n",
       "3      Adrian Jordan  Aug 2018 to Present\n",
       "4      Shannon Kelly  Aug 2018 to Present"
      ]
     },
     "execution_count": 9,
     "metadata": {},
     "output_type": "execute_result"
    }
   ],
   "source": [
    "driver = webdriver.Chrome(r'C:\\Users\\fires\\chromedriver\\chromedriver.exe')\n",
    "actions.login(driver, 'abrazeau1993@gmail.com', '*')\n",
    "workanni_df = pd.DataFrame(columns=['NAME', 'WORK_ANNIV'])\n",
    "for i, url in enumerate(urls):\n",
    "    driver.get(url)\n",
    "    workanni_df.loc[i, 'NAME'] = get_name(driver)\n",
    "    workanni_df.loc[i, 'WORK_ANNIV'] = get_WA(driver)\n",
    "workanni_df"
   ]
  },
  {
   "cell_type": "code",
   "execution_count": 10,
   "metadata": {},
   "outputs": [],
   "source": [
    "pd_output = 'test_output_pd.csv'\n",
    "workanni_df.to_csv(pd_output, index=False)"
   ]
  },
  {
   "cell_type": "code",
   "execution_count": 11,
   "metadata": {},
   "outputs": [
    {
     "data": {
      "text/html": [
       "<div>\n",
       "<style scoped>\n",
       "    .dataframe tbody tr th:only-of-type {\n",
       "        vertical-align: middle;\n",
       "    }\n",
       "\n",
       "    .dataframe tbody tr th {\n",
       "        vertical-align: top;\n",
       "    }\n",
       "\n",
       "    .dataframe thead th {\n",
       "        text-align: right;\n",
       "    }\n",
       "</style>\n",
       "<table border=\"1\" class=\"dataframe\">\n",
       "  <thead>\n",
       "    <tr style=\"text-align: right;\">\n",
       "      <th></th>\n",
       "      <th>NAME</th>\n",
       "      <th>WORK_ANNIV</th>\n",
       "    </tr>\n",
       "  </thead>\n",
       "  <tbody>\n",
       "    <tr>\n",
       "      <th>0</th>\n",
       "      <td>Ben Solomon</td>\n",
       "      <td>Oct 2012 to Present</td>\n",
       "    </tr>\n",
       "    <tr>\n",
       "      <th>1</th>\n",
       "      <td>Nicholas Anderson</td>\n",
       "      <td>Jun 2019 to Present</td>\n",
       "    </tr>\n",
       "    <tr>\n",
       "      <th>2</th>\n",
       "      <td>Zach Sweeney</td>\n",
       "      <td>Jun 2019 to Present</td>\n",
       "    </tr>\n",
       "    <tr>\n",
       "      <th>3</th>\n",
       "      <td>Adrian Jordan</td>\n",
       "      <td>Aug 2018 to Present</td>\n",
       "    </tr>\n",
       "    <tr>\n",
       "      <th>4</th>\n",
       "      <td>Shannon Kelly</td>\n",
       "      <td>Aug 2018 to Present</td>\n",
       "    </tr>\n",
       "  </tbody>\n",
       "</table>\n",
       "</div>"
      ],
      "text/plain": [
       "                NAME           WORK_ANNIV\n",
       "0        Ben Solomon  Oct 2012 to Present\n",
       "1  Nicholas Anderson  Jun 2019 to Present\n",
       "2       Zach Sweeney  Jun 2019 to Present\n",
       "3      Adrian Jordan  Aug 2018 to Present\n",
       "4      Shannon Kelly  Aug 2018 to Present"
      ]
     },
     "execution_count": 11,
     "metadata": {},
     "output_type": "execute_result"
    }
   ],
   "source": [
    "check = pd.read_csv(pd_output)\n",
    "check"
   ]
  },
  {
   "cell_type": "code",
   "execution_count": null,
   "metadata": {},
   "outputs": [],
   "source": []
  }
 ],
 "metadata": {
  "kernelspec": {
   "display_name": "Python 3",
   "language": "python",
   "name": "python3"
  },
  "language_info": {
   "codemirror_mode": {
    "name": "ipython",
    "version": 3
   },
   "file_extension": ".py",
   "mimetype": "text/x-python",
   "name": "python",
   "nbconvert_exporter": "python",
   "pygments_lexer": "ipython3",
   "version": "3.7.1"
  }
 },
 "nbformat": 4,
 "nbformat_minor": 2
}
