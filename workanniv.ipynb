{
 "cells": [
  {
   "cell_type": "markdown",
   "metadata": {},
   "source": [
    "# Scraping Script (works)"
   ]
  },
  {
   "cell_type": "code",
   "execution_count": null,
   "metadata": {},
   "outputs": [],
   "source": [
    "import pandas as pd\n",
    "from selenium import webdriver\n",
    "from linkedin_scraper import actions\n",
    "from time import sleep"
   ]
  },
  {
   "cell_type": "code",
   "execution_count": null,
   "metadata": {},
   "outputs": [],
   "source": [
    "def get_WA(driver):\n",
    "    experience = driver.find_elements_by_css_selector('#experience-section .pv-profile-section')\n",
    "    xp = [x.text for x in experience]\n",
    "    listed_xps = [x.split('\\n') for x in xp]\n",
    "    for i in listed_xps[0]:\n",
    "        if '–' in i:\n",
    "            broken_workanniv = i\n",
    "            workanniv0 = broken_workanniv.split('–')[0]\n",
    "            workanniv1 = broken_workanniv.split('–')[1]\n",
    "            workanniv = workanniv0 + 'to' + workanniv1\n",
    "            break\n",
    "    return workanniv"
   ]
  },
  {
   "cell_type": "code",
   "execution_count": null,
   "metadata": {},
   "outputs": [],
   "source": [
    "def get_name(driver):\n",
    "    finds = driver.find_elements_by_class_name('break-words')\n",
    "    names = [x.text for x in finds]\n",
    "    name = names[0]\n",
    "    return name"
   ]
  },
  {
   "cell_type": "code",
   "execution_count": null,
   "metadata": {},
   "outputs": [],
   "source": [
    "def write_csv_raw(output :str, d: dict):\n",
    "    with open(output, 'w') as file:\n",
    "        file.write('NAME, Work_Anniv\\n')\n",
    "        for k, v in d.items():\n",
    "            file.write(f'{k}, {v}\\n')\n",
    "    return print(f'{output} has been written.')"
   ]
  },
  {
   "cell_type": "code",
   "execution_count": null,
   "metadata": {},
   "outputs": [],
   "source": [
    "df = pd.read_csv('workannivtest.csv', names=['URLs'])\n",
    "urls = df['URLs'].tolist()\n",
    "urls"
   ]
  },
  {
   "cell_type": "code",
   "execution_count": null,
   "metadata": {},
   "outputs": [],
   "source": [
    "driver = webdriver.Chrome('/Users/Nick/chromedriver.exe')\n",
    "actions.login(driver, 'nanderson993@gmail.com', 'Nickmike93!')\n",
    "d = {}\n",
    "for url in urls:\n",
    "    driver.get(url)\n",
    "    d[get_name(driver)] = get_WA(driver)\n",
    "d"
   ]
  },
  {
   "cell_type": "code",
   "execution_count": null,
   "metadata": {},
   "outputs": [],
   "source": [
    "output = 'test_output.csv'\n",
    "write_csv_raw(output, d)"
   ]
  },
  {
   "cell_type": "code",
   "execution_count": null,
   "metadata": {},
   "outputs": [],
   "source": [
    "outdf = pd.read_csv(output)\n",
    "outdf"
   ]
  },
  {
   "cell_type": "code",
   "execution_count": null,
   "metadata": {},
   "outputs": [],
   "source": []
  },
  {
   "cell_type": "markdown",
   "metadata": {},
   "source": [
    "# Fuckery Zone \n",
    "\n",
    "### Gettin' deez damn names and experrence \n",
    "\n",
    "https://docs.scrapy.org/en/latest/topics/selectors.html Selector notes"
   ]
  },
  {
   "cell_type": "markdown",
   "metadata": {},
   "source": []
  }
 ],
 "metadata": {
  "kernelspec": {
   "display_name": "Python 3",
   "language": "python",
   "name": "python3"
  },
  "language_info": {
   "codemirror_mode": {
    "name": "ipython",
    "version": 3
   },
   "file_extension": ".py",
   "mimetype": "text/x-python",
   "name": "python",
   "nbconvert_exporter": "python",
   "pygments_lexer": "ipython3",
   "version": "3.7.1"
  }
 },
 "nbformat": 4,
 "nbformat_minor": 2
}
